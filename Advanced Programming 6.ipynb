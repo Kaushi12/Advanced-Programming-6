{
 "cells": [
  {
   "cell_type": "code",
   "execution_count": 9,
   "id": "f3adcdfe",
   "metadata": {},
   "outputs": [],
   "source": [
    "def find_the_difference(s1,s2):\n",
    "    smallStr = \"\"\n",
    "    largeStr = \"\"\n",
    "     \n",
    "    # Determine string with extra character\n",
    "    if(len(s1) > len(s2)):\n",
    "        smallStr = s2\n",
    "        largeStr = s1\n",
    "    else:\n",
    "        smallStr = s1\n",
    "        largeStr = s2\n",
    "    smallStrCodeTotal = 0\n",
    "    largeStrCodeTotal = 0\n",
    "    i = 0\n",
    "     \n",
    "    # Add Character codes of both the strings\n",
    "    while(i < len(smallStr)):\n",
    "        smallStrCodeTotal += ord(smallStr[i])\n",
    "        largeStrCodeTotal += ord(largeStr[i])\n",
    "        i += 1\n",
    "     \n",
    "    # Add last character code of large string\n",
    "    largeStrCodeTotal += ord(largeStr[i])\n",
    "     \n",
    "    # Minus the character code of smaller string\n",
    "    # from the character code of large string\n",
    "    # The result will be the extra character code\n",
    "    intChar = largeStrCodeTotal - smallStrCodeTotal\n",
    "    return chr(intChar)\n",
    " "
   ]
  },
  {
   "cell_type": "code",
   "execution_count": 10,
   "id": "41862b34",
   "metadata": {},
   "outputs": [
    {
     "data": {
      "text/plain": [
       "'e'"
      ]
     },
     "execution_count": 10,
     "metadata": {},
     "output_type": "execute_result"
    }
   ],
   "source": [
    "find_the_difference(\"abcd\",\"abcde\")"
   ]
  },
  {
   "cell_type": "code",
   "execution_count": 15,
   "id": "4f52d8c5",
   "metadata": {},
   "outputs": [],
   "source": [
    "def count_datatypes(*args):\n",
    "    addint=0\n",
    "    addstr=0\n",
    "    addbool=0\n",
    "    addlist=0\n",
    "    addtuple=0\n",
    "    adddict=0\n",
    "    l=[]\n",
    "    for i in args:\n",
    "        if type(i)==int:\n",
    "            addint+=1\n",
    "        if type(i)==str:\n",
    "            addstr+=1\n",
    "        if type(i)==bool:\n",
    "            addbool+=1\n",
    "        if type(i)==list:\n",
    "            addlist+=1\n",
    "        if type(i)==tuple:\n",
    "            addtuple+=1\n",
    "        if type(i)==dict:\n",
    "            adddict+=1\n",
    "    l.append(addint)\n",
    "    l.append(addstr)\n",
    "    l.append(addbool)\n",
    "    l.append(addlist)\n",
    "    l.append(addtuple)\n",
    "    l.append(adddict)\n",
    "    return l"
   ]
  },
  {
   "cell_type": "code",
   "execution_count": 17,
   "id": "6a37c063",
   "metadata": {},
   "outputs": [
    {
     "data": {
      "text/plain": [
       "[2, 2, 3, 1, 0, 2]"
      ]
     },
     "execution_count": 17,
     "metadata": {},
     "output_type": "execute_result"
    }
   ],
   "source": [
    "count_datatypes(\"Hello\", \"Bye\", True, True, False, {\"1\": \"One\", \"2\": \"Two\"}, [1, 3], {\"Brayan\": 18}, 25, 23)"
   ]
  },
  {
   "cell_type": "code",
   "execution_count": 51,
   "id": "7a71fa9c",
   "metadata": {},
   "outputs": [],
   "source": [
    "def fib_series(n,li):\n",
    "    f0=li[0]\n",
    "    f1=li[1]\n",
    "    count=0\n",
    "    while count<n:\n",
    "        s=''+f0+','\n",
    "        print(s,end=\"\")\n",
    "        fn=f0+f1\n",
    "        f0=f1\n",
    "        f1=fn\n",
    "        count+=1"
   ]
  },
  {
   "cell_type": "code",
   "execution_count": 52,
   "id": "c5f5e677",
   "metadata": {},
   "outputs": [
    {
     "name": "stdout",
     "output_type": "stream",
     "text": [
      "j,h,jh,"
     ]
    }
   ],
   "source": [
    "fib_series(3,[\"j\",\"h\"])"
   ]
  },
  {
   "cell_type": "code",
   "execution_count": 32,
   "id": "3ec9cbd0",
   "metadata": {},
   "outputs": [],
   "source": [
    "def ones_threes_nines(num):\n",
    "    if num>=9:\n",
    "        nines=num//9\n",
    "        rem=num%9\n",
    "        if rem>=3:\n",
    "            threes=rem//3\n",
    "            trem=rem%3\n",
    "            ones=trem\n",
    "        else:\n",
    "            threes=0\n",
    "            ones=rem\n",
    "    elif 3<=num<9:\n",
    "        nines=0\n",
    "        threes=num//3\n",
    "        rem=num%3\n",
    "        ones=rem\n",
    "    elif 1<=num<3:\n",
    "        ones=num\n",
    "        threes=0\n",
    "        nines=0\n",
    "    result=\"nines:\"+str(nines)+\",\"+\"threes:\"+str(threes)+\",\"+\"ones:\"+str(ones)\n",
    "    return result"
   ]
  },
  {
   "cell_type": "code",
   "execution_count": 33,
   "id": "a9caaa71",
   "metadata": {},
   "outputs": [
    {
     "data": {
      "text/plain": [
       "'nines:2,threes:1,ones:1'"
      ]
     },
     "execution_count": 33,
     "metadata": {},
     "output_type": "execute_result"
    }
   ],
   "source": [
    "ones_threes_nines(22)"
   ]
  },
  {
   "cell_type": "code",
   "execution_count": 39,
   "id": "be31815d",
   "metadata": {},
   "outputs": [],
   "source": [
    "def fib(nterms):\n",
    "    n1, n2 = 0, 1\n",
    "    count = 0\n",
    "    if nterms <= 0:\n",
    "        print(\"Please enter a positive integer\")\n",
    "    elif nterms == 1:\n",
    "        print(n1)\n",
    "    else:\n",
    "        while count < nterms:\n",
    "            nth = n1 + n2\n",
    "            n1 = n2\n",
    "            n2 = nth\n",
    "            count+= 1\n",
    "    return n1"
   ]
  },
  {
   "cell_type": "code",
   "execution_count": 40,
   "id": "bc4a03d0",
   "metadata": {},
   "outputs": [
    {
     "data": {
      "text/plain": [
       "8"
      ]
     },
     "execution_count": 40,
     "metadata": {},
     "output_type": "execute_result"
    }
   ],
   "source": [
    "fib(6)"
   ]
  },
  {
   "cell_type": "code",
   "execution_count": null,
   "id": "ed30ec4c",
   "metadata": {},
   "outputs": [],
   "source": []
  }
 ],
 "metadata": {
  "kernelspec": {
   "display_name": "Python 3",
   "language": "python",
   "name": "python3"
  },
  "language_info": {
   "codemirror_mode": {
    "name": "ipython",
    "version": 3
   },
   "file_extension": ".py",
   "mimetype": "text/x-python",
   "name": "python",
   "nbconvert_exporter": "python",
   "pygments_lexer": "ipython3",
   "version": "3.8.8"
  }
 },
 "nbformat": 4,
 "nbformat_minor": 5
}
